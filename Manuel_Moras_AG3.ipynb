{
  "nbformat": 4,
  "nbformat_minor": 0,
  "metadata": {
    "colab": {
      "name": "Manuel Moras - AG3.ipynb",
      "provenance": [],
      "collapsed_sections": []
    },
    "kernelspec": {
      "name": "python3",
      "display_name": "Python 3"
    }
  },
  "cells": [
    {
      "cell_type": "markdown",
      "metadata": {
        "id": "6VwsoM4wP_Zq",
        "colab_type": "text"
      },
      "source": [
        "AG3-Actividad Guiada 3\n",
        "\n",
        "Manuel Moras Acosta\n"
      ]
    },
    {
      "cell_type": "markdown",
      "metadata": {
        "id": "TanyZa9hQTDM",
        "colab_type": "text"
      },
      "source": [
        "https://colab.research.google.com/drive/1q4-0wEHn7Rn7JndGYV7SW2r9sti60tCi?usp=sharing"
      ]
    },
    {
      "cell_type": "code",
      "metadata": {
        "id": "7jGb5bQRWuO5",
        "colab_type": "code",
        "colab": {}
      },
      "source": [
        "#!pip install requests"
      ],
      "execution_count": null,
      "outputs": []
    },
    {
      "cell_type": "code",
      "metadata": {
        "id": "y9jnCHItVqvY",
        "colab_type": "code",
        "colab": {
          "base_uri": "https://localhost:8080/",
          "height": 36
        },
        "outputId": "d86beeb4-2cc0-434b-d366-48374ce9c329"
      },
      "source": [
        "import urllib.request\n",
        "\n",
        "file = \"swiss42.tsp\"\n",
        "\n",
        "urllib.request.urlretrieve('http://elib.zib.de/pub/mp-testdata/tsp/tsplib/tsp/swiss42.tsp', file)"
      ],
      "execution_count": 1,
      "outputs": [
        {
          "output_type": "execute_result",
          "data": {
            "text/plain": [
              "('swiss42.tsp', <http.client.HTTPMessage at 0x7f4de179a940>)"
            ]
          },
          "metadata": {
            "tags": []
          },
          "execution_count": 1
        }
      ]
    },
    {
      "cell_type": "code",
      "metadata": {
        "id": "PfyN45aKWBdm",
        "colab_type": "code",
        "colab": {
          "base_uri": "https://localhost:8080/",
          "height": 221
        },
        "outputId": "8987314d-4b3d-4f98-cc37-e9468bb2ede5"
      },
      "source": [
        "!pip install tsplib95"
      ],
      "execution_count": 3,
      "outputs": [
        {
          "output_type": "stream",
          "text": [
            "Collecting tsplib95\n",
            "  Downloading https://files.pythonhosted.org/packages/a0/2b/b1932d3674758ec5f49afa72d4519334a5ac2aac4d96cfd416eb872a1959/tsplib95-0.7.1-py2.py3-none-any.whl\n",
            "Requirement already satisfied: networkx~=2.1 in /usr/local/lib/python3.6/dist-packages (from tsplib95) (2.4)\n",
            "Requirement already satisfied: tabulate~=0.8.7 in /usr/local/lib/python3.6/dist-packages (from tsplib95) (0.8.7)\n",
            "Requirement already satisfied: Click>=6.0 in /usr/local/lib/python3.6/dist-packages (from tsplib95) (7.1.2)\n",
            "Collecting Deprecated~=1.2.9\n",
            "  Downloading https://files.pythonhosted.org/packages/76/a1/05d7f62f956d77b23a640efc650f80ce24483aa2f85a09c03fb64f49e879/Deprecated-1.2.10-py2.py3-none-any.whl\n",
            "Requirement already satisfied: decorator>=4.3.0 in /usr/local/lib/python3.6/dist-packages (from networkx~=2.1->tsplib95) (4.4.2)\n",
            "Requirement already satisfied: wrapt<2,>=1.10 in /usr/local/lib/python3.6/dist-packages (from Deprecated~=1.2.9->tsplib95) (1.12.1)\n",
            "Installing collected packages: Deprecated, tsplib95\n",
            "Successfully installed Deprecated-1.2.10 tsplib95-0.7.1\n"
          ],
          "name": "stdout"
        }
      ]
    },
    {
      "cell_type": "code",
      "metadata": {
        "id": "AdxdEHPLWp6t",
        "colab_type": "code",
        "colab": {}
      },
      "source": [
        "import tsplib95\n",
        "import random\n",
        "from math import e"
      ],
      "execution_count": 4,
      "outputs": []
    },
    {
      "cell_type": "code",
      "metadata": {
        "id": "YMypU0-xW2f6",
        "colab_type": "code",
        "colab": {}
      },
      "source": [
        "problem = tsplib95.load(file)\n",
        "\n",
        "#nodos\n",
        "Nodos = list(problem.get_nodes())\n",
        "\n",
        "#aristas\n",
        "Aristas = list(problem.get_edges())"
      ],
      "execution_count": 22,
      "outputs": []
    },
    {
      "cell_type": "code",
      "metadata": {
        "id": "kznBwIL4XtFe",
        "colab_type": "code",
        "colab": {}
      },
      "source": [
        "#Se genera una solucion aleatoria con comienzo en el nodo 0\n",
        "def crear_solucion(Nodos):\n",
        "  solucion = [Nodos[0]]\n",
        "  for n in Nodos[1:]:\n",
        "    solucion = solucion + [random.choice(list(set(Nodos) - set({Nodos[0]}) - set(solucion)))]\n",
        "  return solucion"
      ],
      "execution_count": 23,
      "outputs": []
    },
    {
      "cell_type": "code",
      "metadata": {
        "id": "288jLwimY0jv",
        "colab_type": "code",
        "colab": {}
      },
      "source": [
        "#Devuelve la distancia entre dos nodos\n",
        "def distancia (a,b, problem):\n",
        "  return problem.get_weight(a,b)"
      ],
      "execution_count": 24,
      "outputs": []
    },
    {
      "cell_type": "code",
      "metadata": {
        "id": "P4zZwlF6ZDgn",
        "colab_type": "code",
        "colab": {}
      },
      "source": [
        "#Devuelve la distancia total de una trayectoria/solucion\n",
        "def distancia_total(solucion,problem):\n",
        "  distancia_total = 0\n",
        "  for i in range(len(solucion)-1):\n",
        "    distancia_total += distancia(solucion[i], solucion[i+1], problem)\n",
        "  return distancia_total + distancia(solucion[len(solucion)-1],solucion[0], problem)"
      ],
      "execution_count": 8,
      "outputs": []
    },
    {
      "cell_type": "code",
      "metadata": {
        "id": "iDkPGUIwZxa1",
        "colab_type": "code",
        "colab": {
          "base_uri": "https://localhost:8080/",
          "height": 36
        },
        "outputId": "0632bc35-6910-44f0-fa62-867bdc8c0019"
      },
      "source": [
        "s=crear_solucion(Nodos)\n",
        "distancia_total(s,problem)"
      ],
      "execution_count": 25,
      "outputs": [
        {
          "output_type": "execute_result",
          "data": {
            "text/plain": [
              "5154"
            ]
          },
          "metadata": {
            "tags": []
          },
          "execution_count": 25
        }
      ]
    },
    {
      "cell_type": "markdown",
      "metadata": {
        "id": "B5GQGvdabmon",
        "colab_type": "text"
      },
      "source": [
        "Búsqueda Aleatoria"
      ]
    },
    {
      "cell_type": "code",
      "metadata": {
        "id": "3RlXn2lMbq_7",
        "colab_type": "code",
        "colab": {}
      },
      "source": [
        "def busqueda_aleatoria(problem, N):\n",
        "\n",
        "  Nodos = list(problem.get_nodes())\n",
        "\n",
        "  mejor_solucion = []\n",
        "  mejor_distancia = 10e100\n",
        "\n",
        "  for i in range(N):\n",
        "    solucion = crear_solucion(Nodos)\n",
        "    distancia = distancia_total(solucion, problem)\n",
        "\n",
        "    if distancia < mejor_distancia:\n",
        "      mejor_solucion = solucion\n",
        "      mejor_distancia = distancia\n",
        "  \n",
        "  print(\"Mejor solucion: \", mejor_solucion)\n",
        "  print(\"Distancia   :\", mejor_distancia)\n",
        "  return mejor_solucion"
      ],
      "execution_count": 26,
      "outputs": []
    },
    {
      "cell_type": "code",
      "metadata": {
        "id": "DuqwVYAnb8GE",
        "colab_type": "code",
        "colab": {
          "base_uri": "https://localhost:8080/",
          "height": 74
        },
        "outputId": "7c058a2b-9fc8-44dc-f9be-d86e266ac66b"
      },
      "source": [
        "sol = busqueda_aleatoria(problem, 5000)"
      ],
      "execution_count": 27,
      "outputs": [
        {
          "output_type": "stream",
          "text": [
            "Mejor solucion:  [0, 13, 34, 16, 19, 18, 26, 1, 33, 36, 20, 21, 25, 38, 22, 5, 35, 31, 17, 14, 23, 6, 12, 37, 32, 41, 10, 4, 28, 9, 39, 29, 8, 24, 40, 11, 2, 7, 15, 30, 3, 27]\n",
            "Distancia   : 3759\n"
          ],
          "name": "stdout"
        }
      ]
    },
    {
      "cell_type": "markdown",
      "metadata": {
        "id": "dQ5m2RTNdimC",
        "colab_type": "text"
      },
      "source": [
        "Búsqueda Local. Generador de vecindad"
      ]
    },
    {
      "cell_type": "code",
      "metadata": {
        "id": "4Q2yytWfdk-B",
        "colab_type": "code",
        "colab": {}
      },
      "source": [
        "def genera_vecina(solucion, problem):\n",
        "\n",
        "\n",
        "  mejor_solucion = []\n",
        "  mejor_distancia = 10e100\n",
        "\n",
        "  for i in range(1, len(solucion)-1):\n",
        "    for j in range (i+1, len(solucion)):\n",
        "\n",
        "      vecina = solucion[:i] + [solucion[j]] + solucion[i+1:j] + [solucion[i]] + solucion[j+1:]\n",
        "      distancia_vecina = distancia_total(vecina, problem)\n",
        "\n",
        "      if distancia_vecina < mejor_distancia:\n",
        "        mejor_solucion = vecina\n",
        "        mejor_distancia = distancia_vecina\n",
        "\n",
        "  return mejor_solucion"
      ],
      "execution_count": 65,
      "outputs": []
    },
    {
      "cell_type": "code",
      "metadata": {
        "id": "dH_9YqhGgquB",
        "colab_type": "code",
        "colab": {
          "base_uri": "https://localhost:8080/",
          "height": 54
        },
        "outputId": "dd357ce4-fbba-4710-86a7-0cc5f2c3ba84"
      },
      "source": [
        "s1=crear_solucion(Nodos)\n",
        "s2=genera_vecina(s1, problem)\n",
        "print(distancia_total(s1, problem), s1)\n",
        "print(distancia_total(s2, problem), s2)"
      ],
      "execution_count": 66,
      "outputs": [
        {
          "output_type": "stream",
          "text": [
            "4925 [0, 26, 3, 2, 39, 37, 22, 30, 24, 35, 34, 10, 32, 31, 21, 41, 23, 16, 19, 12, 15, 11, 17, 9, 28, 1, 27, 36, 4, 33, 8, 5, 29, 14, 7, 40, 20, 38, 6, 13, 25, 18]\n",
            "4380 [0, 26, 3, 2, 39, 40, 22, 30, 24, 35, 34, 10, 32, 31, 21, 41, 23, 16, 19, 12, 15, 11, 17, 9, 28, 1, 27, 36, 4, 33, 8, 5, 29, 14, 7, 37, 20, 38, 6, 13, 25, 18]\n"
          ],
          "name": "stdout"
        }
      ]
    },
    {
      "cell_type": "code",
      "metadata": {
        "id": "pa-T_aV0ieHz",
        "colab_type": "code",
        "colab": {}
      },
      "source": [
        "import copy\n",
        "import math\n",
        "def busqueda_local(problem):\n",
        "  mejor_solucion=[]\n",
        "\n",
        "  solucion_referencia = crear_solucion(Nodos)\n",
        "  mejor_distancia = 10e100\n",
        "\n",
        "  iteracion=0\n",
        "  while(1):\n",
        "    iteracion +=1\n",
        "    vecina = genera_vecina(solucion_referencia, problem)\n",
        "    distancia_vecina = distancia_total(vecina, problem)\n",
        "\n",
        "    if distancia_vecina < mejor_distancia:\n",
        "      mejor_solucion = copy.deepcopy(vecina)\n",
        "      mejor_distancia = distancia_vecina\n",
        "    else:\n",
        "      print(\"En la iteracion \", iteracion, \", la mejor solucion encontrada es: \", mejor_solucion)\n",
        "      print(\"Distancia :\", mejor_distancia)\n",
        "      return mejor_solucion\n",
        "    \n",
        "    solucion_referencia = vecina"
      ],
      "execution_count": 93,
      "outputs": []
    },
    {
      "cell_type": "code",
      "metadata": {
        "id": "MqLqar1EEJ27",
        "colab_type": "code",
        "colab": {
          "base_uri": "https://localhost:8080/",
          "height": 74
        },
        "outputId": "08f08011-3898-421b-a60c-7e43b9c87e88"
      },
      "source": [
        "sol = busqueda_local(problem)"
      ],
      "execution_count": 94,
      "outputs": [
        {
          "output_type": "stream",
          "text": [
            "En la iteracion  39 , la mejor solucion encontrada es:  [0, 28, 30, 32, 31, 17, 29, 22, 38, 34, 33, 20, 35, 36, 37, 12, 11, 25, 10, 8, 9, 39, 21, 24, 40, 23, 41, 18, 26, 5, 13, 19, 14, 16, 15, 7, 3, 27, 2, 4, 6, 1]\n",
            "Distancia : 1703\n"
          ],
          "name": "stdout"
        }
      ]
    },
    {
      "cell_type": "code",
      "metadata": {
        "id": "1JI4qNWBEOAR",
        "colab_type": "code",
        "colab": {}
      },
      "source": [
        "#generador de vecina aleatoria\n",
        "\n",
        "def genera_vecina_aleatoria(solucion):\n",
        "  i,j = sorted(random.sample( range(1, len(solucion)) , 2))\n",
        "\n",
        "  return solucion[:i] + [solucion[j]] + solucion[i+1:j] + [solucion[i]] + solucion[j+1:]"
      ],
      "execution_count": 95,
      "outputs": []
    },
    {
      "cell_type": "code",
      "metadata": {
        "id": "7GPO3I6xI6iA",
        "colab_type": "code",
        "colab": {}
      },
      "source": [
        "#funcion de probabilidad para determinar si se cambia\n",
        "# a una solucion peor respecto a la de referencia(exponencial)\n",
        "\n",
        "def probabilidad(T,d):\n",
        "  if random.random() <= math.exp(-1*d/ T):\n",
        "    return True\n",
        "  else:\n",
        "    return False\n",
        "\n",
        "def bajar_temperatura(T):\n",
        "  return T*.999"
      ],
      "execution_count": 96,
      "outputs": []
    },
    {
      "cell_type": "code",
      "metadata": {
        "id": "AkI8X48iKx-E",
        "colab_type": "code",
        "colab": {}
      },
      "source": [
        "#######################################\n",
        "#Recocido Simulado\n",
        "\n",
        "def recocido_simulado(problem, TEMPERATURA=1000):\n",
        "\n",
        "  solucion_referencia = crear_solucion(Nodos)\n",
        "  distancia_referencia = distancia_total(solucion_referencia, problem)\n",
        "\n",
        "  mejor_solucion =[]\n",
        "  mejor_distancia = 10e100\n",
        "  N=0\n",
        "\n",
        "  while TEMPERATURA > .0001:\n",
        "    N+=1\n",
        "    vecina = genera_vecina_aleatoria(solucion_referencia)\n",
        "    distancia_vecina = distancia_total(vecina,problem)\n",
        "\n",
        "    if distancia_vecina < mejor_distancia:\n",
        "      mejor_solucion = vecina\n",
        "      mejor_distancia = distancia_vecina\n",
        "\n",
        "    if distancia_vecina < distancia_referencia or probabilidad(TEMPERATURA, abs(distancia_referencia - distancia_vecina)):\n",
        "      solucion_referencia = copy.deepcopy(vecina)\n",
        "      distancia_referencia = distancia_vecina\n",
        "\n",
        "    TEMPERATURA = bajar_temperatura(TEMPERATURA)\n",
        "\n",
        "  print(\"La mejor solucion encontrada es \" , end=\"\")\n",
        "  print(mejor_solucion)\n",
        "  print(\"con una distancia total de \" , end=\"\")\n",
        "  print(mejor_distancia)\n",
        "  return mejor_solucion"
      ],
      "execution_count": 97,
      "outputs": []
    },
    {
      "cell_type": "code",
      "metadata": {
        "id": "OfW1kP0JN670",
        "colab_type": "code",
        "colab": {
          "base_uri": "https://localhost:8080/",
          "height": 74
        },
        "outputId": "b7741a74-6d9e-4f54-9afa-3b28fd14db82"
      },
      "source": [
        "sol = recocido_simulado(problem, 1000000)"
      ],
      "execution_count": 98,
      "outputs": [
        {
          "output_type": "stream",
          "text": [
            "La mejor solucion encontrada es [0, 1, 3, 4, 6, 26, 18, 12, 11, 25, 8, 22, 38, 30, 28, 17, 36, 35, 31, 20, 33, 34, 32, 27, 2, 29, 9, 39, 24, 40, 21, 23, 41, 10, 5, 13, 19, 14, 16, 15, 37, 7]\n",
            "con una distancia total de 1601\n"
          ],
          "name": "stdout"
        }
      ]
    },
    {
      "cell_type": "code",
      "metadata": {
        "id": "1Sryx64mOCiU",
        "colab_type": "code",
        "colab": {}
      },
      "source": [
        ""
      ],
      "execution_count": null,
      "outputs": []
    },
    {
      "cell_type": "markdown",
      "metadata": {
        "id": "d85K4fBKOeuY",
        "colab_type": "text"
      },
      "source": [
        "### Colonia de Hormigas"
      ]
    },
    {
      "cell_type": "code",
      "metadata": {
        "id": "dqaoLRPMPMiR",
        "colab_type": "code",
        "colab": {}
      },
      "source": [
        "def Add_Nodo(problem, H ,T ) :\n",
        "  #Mejora:Establecer una funcion de probabilidad para \n",
        "  # añadir un nuevo nodo dependiendo de los nodos mas cercanos y de las feromonas depositadas\n",
        "  Nodos = list(problem.get_nodes())\n",
        "  return random.choice(   list(set(range(1,len(Nodos))) - set(H) )  )\n",
        "\n",
        "\n",
        "def Incrementa_Feromona(problem, T, H ) :\n",
        "  #Incrementa segun la calidad de la solución. Añadir una cantidad inversamente proporcional a la distancia total \n",
        "  for i in range(len(H)-1):\n",
        "    T[H[i]][H[i+1]] += 1000/distancia_total(H, problem)\n",
        "  return T\n",
        "\n",
        "def Evaporar_Feromonas(T ):\n",
        "  #Evapora 0.3 el valor de la feromona, sin que baje de 1\n",
        "  #Mejora:Podemos elegir diferentes funciones de evaporación dependiendo de la cantidad actual y de la suma total de feromonas depositadas,...\n",
        "  T = [[ max(T[i][j] - 0.3 , 1) for i in range(len(Nodos)) ] for j in range(len(Nodos))]\n",
        "  return T"
      ],
      "execution_count": 99,
      "outputs": []
    },
    {
      "cell_type": "code",
      "metadata": {
        "id": "GM88d4jyOhN0",
        "colab_type": "code",
        "colab": {
          "base_uri": "https://localhost:8080/",
          "height": 54
        },
        "outputId": "c9d1b787-9553-4932-fffa-848c75fa7d6c"
      },
      "source": [
        "def hormigas(problem, N) :\n",
        "  #problem = datos del problema\n",
        "  #N = Número de agentes(hormigas)\n",
        "    \n",
        "  #Nodos\n",
        "  Nodos = list(problem.get_nodes())\n",
        "  #Aristas\n",
        "  Aristas = list(problem.get_edges()) \n",
        "  \n",
        "  #Inicializa las aristas con una cantidad inicial de feromonas:1\n",
        "  #Mejora: inicializar con valores diferentes dependiendo diferentes criterios\n",
        "  T = [[ 1 for _ in range(len(Nodos)) ] for _ in range(len(Nodos))]\n",
        "  \n",
        "  #Se generan los agentes(hormigas) que serán estructuras de caminos desde 0\n",
        "  Hormiga = [[0] for _ in range(N)]\n",
        "  \n",
        "  #Recorre cada agente construyendo la solución\n",
        "  for h in range(N) :\n",
        "    #Para cada agente se construye un camino\n",
        "    for i in range(len(Nodos)-1) :\n",
        "      \n",
        "      #Elige el siguiente nodo\n",
        "      Nuevo_Nodo = Add_Nodo(problem, Hormiga[h] ,T )\n",
        "      Hormiga[h].append(Nuevo_Nodo)     \n",
        "    \n",
        "    #Incrementa feromonas en esa arista \n",
        "    T = Incrementa_Feromona(problem, T, Hormiga[h] )\n",
        "    #print(\"Feromonas(1)\", T)\n",
        "      \n",
        "    #Evapora Feromonas  \n",
        "    T = Evaporar_Feromonas(T)\n",
        "    #print(\"Feromonas(2)\", T)\n",
        "\n",
        "    #Seleccionamos el mejor agente\n",
        "  mejor_solucion = []\n",
        "  mejor_distancia = 10e100\n",
        "  for h in range(N) :\n",
        "    distancia_actual = distancia_total(Hormiga[h], problem)\n",
        "    if distancia_actual < mejor_distancia:\n",
        "      mejor_solucion = Hormiga[h]\n",
        "      mejor_distancia =distancia_actual\n",
        "  \n",
        "  \n",
        "  print(mejor_solucion)\n",
        "  print(mejor_distancia)\n",
        "  \n",
        "  \n",
        "hormigas(problem, 1000)"
      ],
      "execution_count": 100,
      "outputs": [
        {
          "output_type": "stream",
          "text": [
            "[0, 2, 17, 31, 13, 6, 1, 7, 16, 37, 20, 24, 40, 32, 10, 29, 34, 14, 5, 15, 23, 35, 36, 3, 21, 22, 8, 41, 30, 19, 39, 25, 9, 12, 11, 18, 4, 28, 38, 26, 27, 33]\n",
            "3862\n"
          ],
          "name": "stdout"
        }
      ]
    },
    {
      "cell_type": "code",
      "metadata": {
        "id": "sa8X0fgePTXt",
        "colab_type": "code",
        "colab": {}
      },
      "source": [
        ""
      ],
      "execution_count": null,
      "outputs": []
    }
  ]
}