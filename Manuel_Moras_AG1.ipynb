{
  "nbformat": 4,
  "nbformat_minor": 0,
  "metadata": {
    "colab": {
      "name": "Manuel Moras AG1.ipynb",
      "provenance": [],
      "collapsed_sections": []
    },
    "kernelspec": {
      "name": "python3",
      "display_name": "Python 3"
    }
  },
  "cells": [
    {
      "cell_type": "code",
      "metadata": {
        "id": "7K3H6AFGowfI",
        "colab_type": "code",
        "colab": {}
      },
      "source": [
        "# Nombre: Manuel Moras Acosta\n",
        "# https://colab.research.google.com/drive/1GoaqbIWynmYkMfVe0W6pgtNNdfAoMSox?usp=sharing"
      ],
      "execution_count": null,
      "outputs": []
    },
    {
      "cell_type": "markdown",
      "metadata": {
        "id": "kIuqCf4CqTjm",
        "colab_type": "text"
      },
      "source": [
        "## Actividad Guiada 1"
      ]
    },
    {
      "cell_type": "markdown",
      "metadata": {
        "id": "Ouj2_Hl619Mm",
        "colab_type": "text"
      },
      "source": [
        "Divide y Vencerás"
      ]
    },
    {
      "cell_type": "code",
      "metadata": {
        "id": "3xFDwxgeqvlE",
        "colab_type": "code",
        "colab": {}
      },
      "source": [
        "# Función Torres de Hanoi\n",
        "def torres_hanoi (n, desde, hasta):\n",
        "  if n==1:\n",
        "      print(\"Mueve desde la \" + str(desde) + \" hasta \" + str(hasta))\n",
        "  else:\n",
        "    torres_hanoi(n-1, desde, 6-hasta-desde)  \n",
        "    print(\"Mueve desde la \" + str(desde) + \" hasta \" + str(hasta))\n",
        "    torres_hanoi(n-1, 6-hasta-desde, hasta)\n",
        "\n",
        "torres_hanoi(4,1,3) "
      ],
      "execution_count": null,
      "outputs": []
    },
    {
      "cell_type": "markdown",
      "metadata": {
        "id": "mnXA4s3O2KfF",
        "colab_type": "text"
      },
      "source": [
        "Algoritmo Voráz"
      ]
    },
    {
      "cell_type": "code",
      "metadata": {
        "id": "UQwAHMkqthxr",
        "colab_type": "code",
        "colab": {}
      },
      "source": [
        "# Cambio de moneda\n",
        "\n",
        "sistema_monetario = [25, 10, 5, 1]\n",
        "def cambio_monedas(N, sistema_monetario):\n",
        "  \n",
        "  ValorAcumulado = 0\n",
        "  SOL = [0]*len(sistema_monetario)\n",
        "  \n",
        "  for i,n in enumerate(sistema_monetario):\n",
        "    monedas = (N-ValorAcumulado)//n\n",
        "    ValorAcumulado = ValorAcumulado + monedas*n\n",
        "    SOL[i] = monedas\n",
        "    \n",
        "    if ValorAcumulado == N:\n",
        "      return SOL\n",
        "\n",
        "  return SOL\n",
        "\n",
        "cambio_monedas(23, sistema_monetario)"
      ],
      "execution_count": null,
      "outputs": []
    },
    {
      "cell_type": "code",
      "metadata": {
        "id": "hIGJCoklxLwC",
        "colab_type": "code",
        "colab": {}
      },
      "source": [
        ""
      ],
      "execution_count": null,
      "outputs": []
    },
    {
      "cell_type": "markdown",
      "metadata": {
        "id": "i6jbZFZP2bhj",
        "colab_type": "text"
      },
      "source": [
        "Backtracking"
      ]
    },
    {
      "cell_type": "code",
      "metadata": {
        "id": "c_Pq6Xon2jSL",
        "colab_type": "code",
        "colab": {}
      },
      "source": [
        "# Problema de las 4 reinas\n",
        "def es_prometedora(SOLUCION, etapa):\n",
        "\n",
        "  for i in range(etapa+1): \n",
        "    if SOLUCION.count(SOLUCION[i]) > 1:       \n",
        "      return False\n",
        "\n",
        "    for j in range(i+1, etapa +1 ):\n",
        "      if abs(i-j) == abs(SOLUCION[i]-SOLUCION[j]): \n",
        "        return False\n",
        "        \n",
        "  return True"
      ],
      "execution_count": null,
      "outputs": []
    },
    {
      "cell_type": "code",
      "metadata": {
        "id": "tFTuHHPO4MOZ",
        "colab_type": "code",
        "colab": {}
      },
      "source": [
        "def reinas(N, solucion, etapa): #Tamaño del tablero\n",
        "  \n",
        "  for i in range(1, N+1):\n",
        "    \n",
        "    solucion[etapa] = i\n",
        "\n",
        "    if es_prometedora(solucion,etapa):     \n",
        "      if etapa == N-1 :\n",
        "        print(\"\\n\\nLa Solucíon es: \")\n",
        "        print(solucion)\n",
        "        write(solucion)\n",
        "      else:\n",
        "        reinas(N,solucion,etapa+1)\n",
        "    else:\n",
        "      None\n",
        "    \n",
        "    solucion[etapa] = 0"
      ],
      "execution_count": null,
      "outputs": []
    },
    {
      "cell_type": "code",
      "metadata": {
        "id": "mMKfCoftNKvM",
        "colab_type": "code",
        "colab": {}
      },
      "source": [
        "def write(S):\n",
        "  n = len(S)\n",
        "  for x in range(n):\n",
        "    print(\"\")\n",
        "    for i in range(n):\n",
        "      if solucion[i] == x + 1:\n",
        "        print(\" X \", end=\"\")\n",
        "      else:\n",
        "        print(\" - \", end=\"\")"
      ],
      "execution_count": null,
      "outputs": []
    },
    {
      "cell_type": "code",
      "metadata": {
        "id": "6zrCuScPOHpx",
        "colab_type": "code",
        "colab": {}
      },
      "source": [
        "N = 4\n",
        "solucion = [0 for i in range(N)]\n",
        "reinas(N, solucion, 0)"
      ],
      "execution_count": null,
      "outputs": []
    },
    {
      "cell_type": "code",
      "metadata": {
        "id": "RhgyzDJyPkPM",
        "colab_type": "code",
        "colab": {}
      },
      "source": [
        ""
      ],
      "execution_count": null,
      "outputs": []
    }
  ]
}