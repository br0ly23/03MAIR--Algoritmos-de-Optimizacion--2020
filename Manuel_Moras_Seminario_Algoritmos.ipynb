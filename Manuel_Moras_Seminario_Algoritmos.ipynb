{
  "nbformat": 4,
  "nbformat_minor": 0,
  "metadata": {
    "colab": {
      "name": "Manuel Moras - Seminario - Algoritmos.ipynb",
      "provenance": [],
      "collapsed_sections": []
    },
    "kernelspec": {
      "name": "python3",
      "display_name": "Python 3"
    }
  },
  "cells": [
    {
      "cell_type": "markdown",
      "metadata": {
        "id": "hVbXYX-RfPWh"
      },
      "source": [
        "# Algoritmos de optimización - Seminario<br>\n",
        "Nombre y Apellidos: Manuel David Moras Acosta  <br>\n",
        "Url: https://github.com/br0ly23/03MAIR--Algoritmos-de-Optimizacion--2020/blob/master/Manuel_Moras_Seminario_Algoritmos.ipynb<br>\n",
        "Problema:\n",
        "> 3. Combinar cifras y operaciones <br>\n",
        "\n",
        "Descripción del problema:(copiar enunciado)\n",
        "\n",
        "# Combinar cifras y operaciones\n",
        "\n",
        "\n",
        "* El problema consiste en analizar el siguiente problema y diseñar un algoritmo que lo resuelva.\n",
        "\n",
        "* Disponemos de las 9 cifras del 1 al 9 (excluimos el cero) y de los 4 signos básicos de las operaciones fundamentales: suma(+), resta(-), multiplicación(*) y división(/)•\n",
        "\n",
        "* Debemos combinarlos alternativamente sin repetir ninguno de ellos para obtener una cantidad dada. Un ejemplo sería para obtener el 4: 4+2-6/3 * 1 = 4\n",
        "\n",
        "* Debe analizarse el problema para encontrar todos los valores enteros posibles planteando las siguientes cuestiones:- ¿Qué valor máximo y mínimo se pueden obtener según las condiciones del problema?- ¿Es posible encontrar todos los valores enteros posibles entre dicho mínimo y máximo ?\n",
        "\n",
        "\n",
        "(*) La respuesta es obligatoria\n",
        "\n",
        "\n",
        "\n",
        "\n",
        "\n",
        "                                        "
      ]
    },
    {
      "cell_type": "markdown",
      "metadata": {
        "id": "fBDcMIzOLazd"
      },
      "source": [
        "### (*)¿Cuantas posibilidades hay sin tener en cuenta las restricciones?<br>\n"
      ]
    },
    {
      "cell_type": "markdown",
      "metadata": {
        "id": "F8PReeljckwj"
      },
      "source": [
        "R/ Tomando en cuenta que cualesquiera de los operadores y los números se repiten sin importar su posición, y sin restricción alguna, podríamos tener un numero de 4 operaciones para cada dígito, asi:\n",
        "\n",
        "9 *4 *9 *4 *9 *4 *9 *4 *9 =  9 * 36^4  = 15116544\n"
      ]
    },
    {
      "cell_type": "markdown",
      "metadata": {
        "id": "sIovhbYbI0yk"
      },
      "source": [
        "¿Cuantas posibilidades hay teniendo en cuenta todas las restricciones."
      ]
    },
    {
      "cell_type": "markdown",
      "metadata": {
        "id": "3_-exlrTgLd-"
      },
      "source": [
        "\n",
        "Tenemos un número de combinaciones que dependen de 5 caracteres numéricos y se le aplica las combinaciones posibles con 4 operadores.\n",
        "* Para la primera cadena de números tenemos que deberán ocupar 5 caracteres de 9 posibles\n",
        "* Para la segunda cadena de operadores tenemos que deberán ocupar 4 caracteres de 4 posibles\n",
        "\n",
        "Por lo que las permutaciones pertinentes vienen dadas por:\n"
      ]
    },
    {
      "cell_type": "code",
      "metadata": {
        "colab": {
          "base_uri": "https://localhost:8080/"
        },
        "id": "cQEIva0eJkFN",
        "outputId": "8f339218-fd6e-4a33-f8ac-c5dff15aaf68"
      },
      "source": [
        "import itertools\n",
        "\n",
        "#permutación de los números\n",
        "A = 0\n",
        "for i in itertools.permutations([1,2,3,4,5,6,7,8,9],5) :\n",
        "    A += 1\n",
        "print('permutación de los números : ',A)\n",
        "\n",
        "#permutación de operadores\n",
        "B = 0\n",
        "for i in itertools.permutations([1,2,3,4],4) :\n",
        "    B += 1\n",
        "print('permutación de operadores: ',B)\n",
        "\n",
        "# Calculamos el total de posibilidades sin restricciones\n",
        "Posibles = A*B\n",
        "print('las posibilidades con restricciones son:', Posibles)"
      ],
      "execution_count": 6,
      "outputs": [
        {
          "output_type": "stream",
          "text": [
            "permutación de los números :  15120\n",
            "permutación de operadores:  24\n",
            "las posibilidades con restricciones son: 362880\n"
          ],
          "name": "stdout"
        }
      ]
    },
    {
      "cell_type": "markdown",
      "metadata": {
        "id": "dzynfVJahHoY"
      },
      "source": [
        "### Modelo para el espacio de soluciones<br>\n",
        "(*) ¿Cual es la estructura de datos que mejor se adapta al problema? Argumentalo.(Es posible que hayas elegido una al principio y veas la necesidad de cambiar, arguentalo)\n"
      ]
    },
    {
      "cell_type": "markdown",
      "metadata": {
        "id": "xFIJrOwKi2Ti"
      },
      "source": [
        "\n",
        "\n",
        "*   Se adapta mejor a este tipo de problema el uso de un algoritmo por fuerza bruta, para el cual se trabajará con 2 listas, una con los numeros y otra con los operadores. \n",
        "\n"
      ]
    },
    {
      "cell_type": "markdown",
      "metadata": {
        "id": "7Z9U2W7bi-XS"
      },
      "source": [
        "Según el modelo para el espacio de soluciones<br>\n",
        "(*)¿Cual es la función objetivo?\n",
        "\n",
        "R/ La función objetivo es encontrar las combinaciones que otorguen como resultado un numero entero, la cual la podemos plasmar como:\n",
        "\n",
        "x = n1(o1)n2(o2)n3(o3)n4(o4)n5, donde n es cada digito del conjunto, o son los 4 operadores y x es el numero entero a encontrar.\n",
        "\n",
        "(*)¿Es un problema de maximización o minimización?\n",
        "\n",
        "R/ Estamos frente a un problema de búsqueda ya que desea encontrar varias soluciones exactas (números enteros) dado un numero de posibilidades según restricciones."
      ]
    },
    {
      "cell_type": "markdown",
      "metadata": {
        "id": "rlnTYgY1j6I2"
      },
      "source": [
        "### Diseña un algoritmo para resolver el problema por fuerza bruta"
      ]
    },
    {
      "cell_type": "markdown",
      "metadata": {
        "id": "70rDgxYXkC8r"
      },
      "source": [
        "Debe analizarse el problema para encontrar todos los valores enteros posibles planteando las siguientes cuestiones:\n",
        "\n",
        "\n",
        "¿Qué valor máximo y mínimo se pueden obtener según las condiciones del problema?\n",
        "\n"
      ]
    },
    {
      "cell_type": "code",
      "metadata": {
        "id": "CJb5sQ0qkENy",
        "colab": {
          "base_uri": "https://localhost:8080/"
        },
        "outputId": "cae27634-6b12-44f0-9e8d-f554f248e7ba"
      },
      "source": [
        "# Creamos una función utilizando fuerza bruta, para conseguir todas las combinaciones y asi calcular los máximos y minimos:\n",
        "def FB_maxmin(n):\n",
        "\n",
        "  max = 1000\n",
        "  min = -1000\n",
        "  SOLUCION = []\n",
        "  operadores = ['+','-','*','/']\n",
        "\n",
        "  # serie de for anidados para encontrar por fuerza bruta las distintas combinaciones.\n",
        "  # se descartan uno por uno los números u operadores que ya se utilizaron para evitar que se repitan.\n",
        "  for n1 in range(1,10):\n",
        "    for n2 in range(1,10):\n",
        "      if n2!=n1:\n",
        "        for n3 in range(1,10):\n",
        "          if n3!=n1 and n3!=n2:\n",
        "            for n4 in range(1,10):\n",
        "              if n4!=n1 and n4!=n2 and n4!=n3:\n",
        "                for n5 in range(1,10):\n",
        "                  if n5!=n1 and n5!=n2 and n5!=n3 and n5!=n4:\n",
        "                    for o1 in operadores:\n",
        "                      for o2 in operadores:\n",
        "                        if o1!=o2:\n",
        "                          for o3 in operadores:\n",
        "                            if o3!=o1 and o3!=o2:\n",
        "                              for o4 in operadores:\n",
        "                                if o4!=o1 and o4!=o2 and o4!=o3:\n",
        "                                  \n",
        "                                # se plantea la expresion a evaluar\n",
        "                                  exp = str(n1)+o1+str(n2)+o2+str(n3)+o3+str(n4)+o4+str(n5)\n",
        "                                  res = eval(exp)\n",
        "\n",
        "                                # Validamos si tenemos máximos, mínimos, o es el valor que buscamos\n",
        "                                  if res%1==0 and res<max:\n",
        "                                    max = res\n",
        "                                    expmax = str(n1)+o1+str(n2)+o2+str(n3)+o3+str(n4)+o4+str(n5)\n",
        "                                  if res%1==0 and res>min:\n",
        "                                    min = res\n",
        "                                    expmin = str(n1)+o1+str(n2)+o2+str(n3)+o3+str(n4)+o4+str(n5)\n",
        "                                  if res == n:\n",
        "                                    SOLUCION.append(exp) # notar que aquí se guardon todas las expresiones que cumplen la condicional, estas se pueden desplagar si es necesario\n",
        "                                \n",
        "  print('Mínimo: ',expmax,'=',max)\n",
        "  print('Máximo: ',expmin,'=',min)\n",
        "  return SOLUCION\n",
        "\n",
        "n = 4\n",
        "sol = FB_maxmin(n)\n",
        "#print(sol)"
      ],
      "execution_count": 143,
      "outputs": [
        {
          "output_type": "stream",
          "text": [
            "Mínimo:  1+4/2-8*9 = -69.0\n",
            "Máximo:  7/1-2+8*9 = 77.0\n"
          ],
          "name": "stdout"
        }
      ]
    },
    {
      "cell_type": "markdown",
      "metadata": {
        "id": "iXXuFNaEbEi3"
      },
      "source": [
        "¿Es posible encontrar todos los valores enteros posibles entre dicho mínimo y máximo ?"
      ]
    },
    {
      "cell_type": "code",
      "metadata": {
        "colab": {
          "base_uri": "https://localhost:8080/"
        },
        "id": "pZf4qQyHbKER",
        "outputId": "b25a2b4b-8d3a-4728-c687-ca706c22d665"
      },
      "source": [
        "# ahora que ya conocemos el máximo y minimo, corremos la funcion de fuerza bruta entre el intervalo\n",
        "# a continuacion una funcion modificada de la anterior que nos muestra las salidas necesarioas para verificar que los valores intermedios sean encontrados\n",
        "def FB_all(n):\n",
        "\n",
        "  SOLUCION = []\n",
        "  operadores = ['+','-','*','/']\n",
        "\n",
        "  # serie de for anidados para encontrar por fuerza bruta las distintas combinaciones.\n",
        "  # se descartan uno por uno los números u operadores que ya se utilizaron para evitar que se repitan.\n",
        "  for n1 in range(1,10):\n",
        "    for n2 in range(1,10):\n",
        "      if n2!=n1:\n",
        "        for n3 in range(1,10):\n",
        "          if n3!=n1 and n3!=n2:\n",
        "            for n4 in range(1,10):\n",
        "              if n4!=n1 and n4!=n2 and n4!=n3:\n",
        "                for n5 in range(1,10):\n",
        "                  if n5!=n1 and n5!=n2 and n5!=n3 and n5!=n4:\n",
        "                    for o1 in operadores:\n",
        "                      for o2 in operadores:\n",
        "                        if o1!=o2:\n",
        "                          for o3 in operadores:\n",
        "                            if o3!=o1 and o3!=o2:\n",
        "                              for o4 in operadores:\n",
        "                                if o4!=o1 and o4!=o2 and o4!=o3:\n",
        "                                  exp = str(n1)+o1+str(n2)+o2+str(n3)+o3+str(n4)+o4+str(n5)\n",
        "                                  res = eval(exp)\n",
        "                                  if res == n:\n",
        "                                    SOLUCION.append(exp) # notar que aquí se guardon todas las expresiones que cumplen la condicional, estas se pueden desplagar si es necesario\n",
        "                                \n",
        "  return SOLUCION\n",
        "\n",
        "for n in range(-70,79,1): \n",
        "  sol = FB_all(n)\n",
        "  print('Existen',len(sol),'combinaciones para encontrar', n)\n",
        "  #print(sol)"
      ],
      "execution_count": 46,
      "outputs": [
        {
          "output_type": "stream",
          "text": [
            "Existen 0 combinaciones para encontrar -70\n",
            "Existen 16 combinaciones para encontrar -69\n",
            "Existen 16 combinaciones para encontrar -68\n",
            "Existen 40 combinaciones para encontrar -67\n",
            "Existen 48 combinaciones para encontrar -66\n",
            "Existen 88 combinaciones para encontrar -65\n",
            "Existen 80 combinaciones para encontrar -64\n",
            "Existen 112 combinaciones para encontrar -63\n",
            "Existen 72 combinaciones para encontrar -62\n",
            "Existen 64 combinaciones para encontrar -61\n",
            "Existen 56 combinaciones para encontrar -60\n",
            "Existen 56 combinaciones para encontrar -59\n",
            "Existen 56 combinaciones para encontrar -58\n",
            "Existen 48 combinaciones para encontrar -57\n",
            "Existen 104 combinaciones para encontrar -56\n",
            "Existen 96 combinaciones para encontrar -55\n",
            "Existen 72 combinaciones para encontrar -54\n",
            "Existen 104 combinaciones para encontrar -53\n",
            "Existen 96 combinaciones para encontrar -52\n",
            "Existen 96 combinaciones para encontrar -51\n",
            "Existen 88 combinaciones para encontrar -50\n",
            "Existen 184 combinaciones para encontrar -49\n",
            "Existen 120 combinaciones para encontrar -48\n",
            "Existen 160 combinaciones para encontrar -47\n",
            "Existen 72 combinaciones para encontrar -46\n",
            "Existen 176 combinaciones para encontrar -45\n",
            "Existen 120 combinaciones para encontrar -44\n",
            "Existen 152 combinaciones para encontrar -43\n",
            "Existen 152 combinaciones para encontrar -42\n",
            "Existen 168 combinaciones para encontrar -41\n",
            "Existen 96 combinaciones para encontrar -40\n",
            "Existen 168 combinaciones para encontrar -39\n",
            "Existen 104 combinaciones para encontrar -38\n",
            "Existen 208 combinaciones para encontrar -37\n",
            "Existen 208 combinaciones para encontrar -36\n",
            "Existen 304 combinaciones para encontrar -35\n",
            "Existen 208 combinaciones para encontrar -34\n",
            "Existen 128 combinaciones para encontrar -33\n",
            "Existen 200 combinaciones para encontrar -32\n",
            "Existen 296 combinaciones para encontrar -31\n",
            "Existen 264 combinaciones para encontrar -30\n",
            "Existen 288 combinaciones para encontrar -29\n",
            "Existen 256 combinaciones para encontrar -28\n",
            "Existen 288 combinaciones para encontrar -27\n",
            "Existen 184 combinaciones para encontrar -26\n",
            "Existen 376 combinaciones para encontrar -25\n",
            "Existen 352 combinaciones para encontrar -24\n",
            "Existen 376 combinaciones para encontrar -23\n",
            "Existen 176 combinaciones para encontrar -22\n",
            "Existen 336 combinaciones para encontrar -21\n",
            "Existen 384 combinaciones para encontrar -20\n",
            "Existen 416 combinaciones para encontrar -19\n",
            "Existen 440 combinaciones para encontrar -18\n",
            "Existen 488 combinaciones para encontrar -17\n",
            "Existen 432 combinaciones para encontrar -16\n",
            "Existen 552 combinaciones para encontrar -15\n",
            "Existen 504 combinaciones para encontrar -14\n",
            "Existen 552 combinaciones para encontrar -13\n",
            "Existen 512 combinaciones para encontrar -12\n",
            "Existen 648 combinaciones para encontrar -11\n",
            "Existen 624 combinaciones para encontrar -10\n",
            "Existen 768 combinaciones para encontrar -9\n",
            "Existen 680 combinaciones para encontrar -8\n",
            "Existen 960 combinaciones para encontrar -7\n",
            "Existen 736 combinaciones para encontrar -6\n",
            "Existen 1136 combinaciones para encontrar -5\n",
            "Existen 1096 combinaciones para encontrar -4\n",
            "Existen 1232 combinaciones para encontrar -3\n",
            "Existen 1272 combinaciones para encontrar -2\n",
            "Existen 1688 combinaciones para encontrar -1\n",
            "Existen 1888 combinaciones para encontrar 0\n",
            "Existen 2008 combinaciones para encontrar 1\n",
            "Existen 1688 combinaciones para encontrar 2\n",
            "Existen 1952 combinaciones para encontrar 3\n",
            "Existen 2112 combinaciones para encontrar 4\n",
            "Existen 2880 combinaciones para encontrar 5\n",
            "Existen 2200 combinaciones para encontrar 6\n",
            "Existen 2824 combinaciones para encontrar 7\n",
            "Existen 2376 combinaciones para encontrar 8\n",
            "Existen 2584 combinaciones para encontrar 9\n",
            "Existen 2120 combinaciones para encontrar 10\n",
            "Existen 2256 combinaciones para encontrar 11\n",
            "Existen 1512 combinaciones para encontrar 12\n",
            "Existen 2160 combinaciones para encontrar 13\n",
            "Existen 1880 combinaciones para encontrar 14\n",
            "Existen 1800 combinaciones para encontrar 15\n",
            "Existen 1568 combinaciones para encontrar 16\n",
            "Existen 1928 combinaciones para encontrar 17\n",
            "Existen 1344 combinaciones para encontrar 18\n",
            "Existen 1616 combinaciones para encontrar 19\n",
            "Existen 1344 combinaciones para encontrar 20\n",
            "Existen 1224 combinaciones para encontrar 21\n",
            "Existen 1352 combinaciones para encontrar 22\n",
            "Existen 1208 combinaciones para encontrar 23\n",
            "Existen 784 combinaciones para encontrar 24\n",
            "Existen 1312 combinaciones para encontrar 25\n",
            "Existen 1048 combinaciones para encontrar 26\n",
            "Existen 680 combinaciones para encontrar 27\n",
            "Existen 808 combinaciones para encontrar 28\n",
            "Existen 976 combinaciones para encontrar 29\n",
            "Existen 752 combinaciones para encontrar 30\n",
            "Existen 880 combinaciones para encontrar 31\n",
            "Existen 472 combinaciones para encontrar 32\n",
            "Existen 648 combinaciones para encontrar 33\n",
            "Existen 704 combinaciones para encontrar 34\n",
            "Existen 688 combinaciones para encontrar 35\n",
            "Existen 560 combinaciones para encontrar 36\n",
            "Existen 616 combinaciones para encontrar 37\n",
            "Existen 488 combinaciones para encontrar 38\n",
            "Existen 568 combinaciones para encontrar 39\n",
            "Existen 400 combinaciones para encontrar 40\n",
            "Existen 680 combinaciones para encontrar 41\n",
            "Existen 376 combinaciones para encontrar 42\n",
            "Existen 488 combinaciones para encontrar 43\n",
            "Existen 424 combinaciones para encontrar 44\n",
            "Existen 304 combinaciones para encontrar 45\n",
            "Existen 432 combinaciones para encontrar 46\n",
            "Existen 376 combinaciones para encontrar 47\n",
            "Existen 192 combinaciones para encontrar 48\n",
            "Existen 424 combinaciones para encontrar 49\n",
            "Existen 344 combinaciones para encontrar 50\n",
            "Existen 280 combinaciones para encontrar 51\n",
            "Existen 240 combinaciones para encontrar 52\n",
            "Existen 368 combinaciones para encontrar 53\n",
            "Existen 200 combinaciones para encontrar 54\n",
            "Existen 392 combinaciones para encontrar 55\n",
            "Existen 128 combinaciones para encontrar 56\n",
            "Existen 352 combinaciones para encontrar 57\n",
            "Existen 240 combinaciones para encontrar 58\n",
            "Existen 280 combinaciones para encontrar 59\n",
            "Existen 240 combinaciones para encontrar 60\n",
            "Existen 192 combinaciones para encontrar 61\n",
            "Existen 232 combinaciones para encontrar 62\n",
            "Existen 112 combinaciones para encontrar 63\n",
            "Existen 192 combinaciones para encontrar 64\n",
            "Existen 160 combinaciones para encontrar 65\n",
            "Existen 128 combinaciones para encontrar 66\n",
            "Existen 128 combinaciones para encontrar 67\n",
            "Existen 120 combinaciones para encontrar 68\n",
            "Existen 160 combinaciones para encontrar 69\n",
            "Existen 152 combinaciones para encontrar 70\n",
            "Existen 192 combinaciones para encontrar 71\n",
            "Existen 32 combinaciones para encontrar 72\n",
            "Existen 192 combinaciones para encontrar 73\n",
            "Existen 152 combinaciones para encontrar 74\n",
            "Existen 112 combinaciones para encontrar 75\n",
            "Existen 80 combinaciones para encontrar 76\n",
            "Existen 48 combinaciones para encontrar 77\n",
            "Existen 0 combinaciones para encontrar 78\n"
          ],
          "name": "stdout"
        }
      ]
    },
    {
      "cell_type": "code",
      "metadata": {
        "id": "jw1GnqqOi-up"
      },
      "source": [
        "#### Por lo que se comprueba que si es posible encontrar todos los enteros entre el máximo y el mínimo. #####"
      ],
      "execution_count": 48,
      "outputs": []
    },
    {
      "cell_type": "markdown",
      "metadata": {
        "id": "tgrnsC2nkFa8"
      },
      "source": [
        "### Calcula la complejidad del algoritmo por fuerza bruta"
      ]
    },
    {
      "cell_type": "markdown",
      "metadata": {
        "id": "9eUd3xwckP68"
      },
      "source": [
        "R/ Tomando en cuenta que tenemos varios bucles \"for\" anidados, podremos decir que la complejidad depende de ellos, al manejar 9 bucles, tendremos:\n",
        "\n",
        "* O(n^9)"
      ]
    },
    {
      "cell_type": "markdown",
      "metadata": {
        "id": "txbrmLmskReM"
      },
      "source": [
        "### (*)Diseña un algoritmo que mejore la complejidad del algortimo por fuerza bruta. Argumenta porque crees que mejora el algoritmo por fuerza bruta"
      ]
    },
    {
      "cell_type": "markdown",
      "metadata": {
        "id": "5ZLcbyi-jFYV"
      },
      "source": [
        "Para la mejora del algoritmo, se propone un algoritmo que de manera aleatoria encuentre soluciones que cumplan las restricciones "
      ]
    },
    {
      "cell_type": "code",
      "metadata": {
        "id": "FeHUXDC3jEqW"
      },
      "source": [
        "import random\n",
        "\n",
        "# Funcion creará una expresión aleatoria para luego evaluarla contra el entero buscado \n",
        "def randomizer():\n",
        "\n",
        "  numeros = [1,2,3,4,5,6,7,8,9]\n",
        "  operadores = ['+','-','*','/']\n",
        "  solucion = ''\n",
        "  \n",
        "  for i in range(9):\n",
        "    if i%2==0:    #validamos que sea alternado numero y operador. En las posiciones pares irán numeros (desde cero), y las impares operadores.\n",
        "      num = numeros[random.randint(0,len(numeros)-1)]  # escogemos una posicion al azar de la lista\n",
        "      solucion = solucion + str(num)\n",
        "      numeros.remove(num) #eliminamos el ya seleccionado\n",
        "    else:\n",
        "      ops = operadores[random.randint(0,len(operadores)-1)]\n",
        "      solucion = solucion + str(ops)\n",
        "      operadores.remove(ops)\n",
        "  return solucion"
      ],
      "execution_count": 140,
      "outputs": []
    },
    {
      "cell_type": "code",
      "metadata": {
        "id": "i7o2CORQnh2p"
      },
      "source": [
        "# Inicializmos una funcion que tomará la expresion aleatoria anterior y la calculará un N número de veces, hasta que la evalucación de la expresión sea igual al entero proporcionado\n",
        "def compare(N, entero):\n",
        "  for i in range(N):\n",
        "    sol = randomizer()\n",
        "    if eval(sol) == entero:\n",
        "      print(sol,\"=\", entero)\n",
        "      return\n",
        "  \n",
        "  print('No se encuentra ninguna solución para', entero) # este mensaje se aplica para enteros fuera del intervalo Min-Max (-69 a 77)"
      ],
      "execution_count": 141,
      "outputs": []
    },
    {
      "cell_type": "code",
      "metadata": {
        "id": "m1eyM21Vkabg",
        "colab": {
          "base_uri": "https://localhost:8080/"
        },
        "outputId": "d37dacef-51cb-438d-8060-65db641126d8"
      },
      "source": [
        "compare(100000,23) # Utilizamos un N alto para garantizar que encuentre una expresión valida, sobre todo en enteros que se acercan al Min-Max"
      ],
      "execution_count": 142,
      "outputs": [
        {
          "output_type": "stream",
          "text": [
            "6/2+9*3-7 = 23\n"
          ],
          "name": "stdout"
        }
      ]
    },
    {
      "cell_type": "markdown",
      "metadata": {
        "id": "eGDB4K6uk1iN"
      },
      "source": [
        "(*)Calcula la complejidad del algoritmo "
      ]
    },
    {
      "cell_type": "markdown",
      "metadata": {
        "id": "NhpTh_BPk1ms"
      },
      "source": [
        "R/ Siguiendo con el planteamiento anterior, tenemos 2 funciones con 1 bucle ‘for’ cada uno, por lo que se reduce la complejidad O(n^2). Considero que este algoritmo provee un resultado mas directo a la hora de encontrar un expresión que al ser evaluada nos devuelva el entero requerido. Para casos de encontrar todos los posibles resultados, se recomienda utilizar el de fuerza bruta.\n"
      ]
    },
    {
      "cell_type": "markdown",
      "metadata": {
        "id": "3M6QjTsSkmYe"
      },
      "source": [
        "### Según el problema (y tenga sentido), diseña un juego de datos de entrada aleatorios"
      ]
    },
    {
      "cell_type": "markdown",
      "metadata": {
        "id": "Jc3_OlyNkvjZ"
      },
      "source": [
        "R/ Para este problema en particular, ya que se está tratando con restricciones particulares sobre un conjunto de datos estipulado (9 dígitos y 4 operadores), ya se trabaja sobre datos aleatorios según las restricciones que conlleva"
      ]
    },
    {
      "cell_type": "markdown",
      "metadata": {
        "id": "zy5ZROmjlGo1"
      },
      "source": [
        "Aplica el algoritmo al juego de datos generado"
      ]
    },
    {
      "cell_type": "markdown",
      "metadata": {
        "id": "_Cmj-PVylMsa"
      },
      "source": [
        "R/ No aplica según punto anterior"
      ]
    },
    {
      "cell_type": "markdown",
      "metadata": {
        "id": "eTFWUJQrtGcv"
      },
      "source": [
        "### Enumera las referencias que has utilizado(si ha sido necesario) para llevar a cabo el trabajo"
      ]
    },
    {
      "cell_type": "markdown",
      "metadata": {
        "id": "YKQ_mRBttWsP"
      },
      "source": [
        "[Ejemplos utilizando itertool y fuerza bruta](https://code-examples.net/es/q/b33fb6)"
      ]
    },
    {
      "cell_type": "markdown",
      "metadata": {
        "id": "kAkDPUyRtYyH"
      },
      "source": [
        "### Describe brevemente las lineas de como crees que es posible avanzar en el estudio del problema. Ten en cuenta incluso posibles variaciones del problema y/o variaciones al alza del tamaño"
      ]
    },
    {
      "cell_type": "markdown",
      "metadata": {
        "id": "7hfE6l7Kz_S_"
      },
      "source": [
        "*\tAumentar el conjunto de dígitos a tratar.\n",
        "*\tCrear una regla que el algoritmo se detenga al encontrar la primera expresión que dé como resultado el valor deseado.\n",
        "*\tProbar los conjuntos de datos con algoritmos genéticos."
      ]
    }
  ]
}
