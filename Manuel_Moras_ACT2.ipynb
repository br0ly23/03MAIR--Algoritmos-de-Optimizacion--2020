{
  "nbformat": 4,
  "nbformat_minor": 0,
  "metadata": {
    "colab": {
      "name": "Manuel Moras ACT2.ipynb",
      "provenance": [],
      "collapsed_sections": []
    },
    "kernelspec": {
      "name": "python3",
      "display_name": "Python 3"
    }
  },
  "cells": [
    {
      "cell_type": "code",
      "metadata": {
        "id": "O7XDqwttcCaq",
        "colab_type": "code",
        "colab": {}
      },
      "source": [
        "# Actividad Guiada 2\n",
        "# https://colab.research.google.com/drive/1j9rniK5EY7KC8n_-ew9gZGoCQKhvayn5?usp=sharing"
      ],
      "execution_count": null,
      "outputs": []
    },
    {
      "cell_type": "markdown",
      "metadata": {
        "id": "0O2LmvMjZd8_",
        "colab_type": "text"
      },
      "source": [
        "### Programación Dinámica"
      ]
    },
    {
      "cell_type": "code",
      "metadata": {
        "id": "WbMxRuAFZsy0",
        "colab_type": "code",
        "colab": {
          "base_uri": "https://localhost:8080/",
          "height": 73
        },
        "outputId": "478ed171-5e90-4783-cc39-efa9420b8d85"
      },
      "source": [
        "ALT = 999\n",
        "OPC = []\n",
        "TARIFAS = [[0,5,4,3,ALT,ALT,ALT],\n",
        "           [ALT,0,ALT,2,3,ALT,11],\n",
        "           [ALT, ALT,0,1,ALT,4,10],\n",
        "           [ALT,ALT,ALT,0,5,6,9],\n",
        "           [ALT, ALT, ALT, ALT, 0, ALT, 4],\n",
        "           [ALT, ALT, ALT, ALT, ALT,0,3],\n",
        "           [ALT, ALT, ALT, ALT, ALT, ALT, 0]]\n",
        "\n",
        "###################################################\n",
        "def Precios(TARIFAS):\n",
        "  #Total de Nodos\n",
        "  N = len(TARIFAS[0])\n",
        "\n",
        "  #inicializacion de la tabla de precios\n",
        "  PRECIOS = [ [9999]*N for i in [9999]*N]\n",
        "  RUTA = [ [\"\"]*N for i in [\"\"]*N]\n",
        "\n",
        "  for i in range(N-1):\n",
        "    for j in range(i+1, N):\n",
        "      MIN = TARIFAS[i][j]\n",
        "      RUTA[i][j] = i\n",
        "\n",
        "      for k in range(i, j):\n",
        "        if PRECIOS[i][k] + TARIFAS [k][j] < MIN:\n",
        "          MIN = min(MIN, PRECIOS[i][k]+ TARIFAS[k][j])\n",
        "          RUTA[i][j] = k\n",
        "        PRECIOS[i][j] = MIN\n",
        "\n",
        "  return PRECIOS, RUTA\n",
        "\n",
        "################################################\n",
        "\n",
        "def calcular_ruta(RUTA, desde , hasta):\n",
        "  if desde == hasta:\n",
        "    return desde\n",
        "  else:\n",
        "    return str(calcular_ruta(RUTA, desde, RUTA[desde][hasta]) ) + ',' + str(RUTA[desde][hasta])\n",
        "\n",
        "print(\"\\nLa ruta es: \")\n",
        "\n",
        "calcular_ruta"
      ],
      "execution_count": 40,
      "outputs": [
        {
          "output_type": "stream",
          "text": [
            "\n",
            "La ruta es: \n"
          ],
          "name": "stdout"
        },
        {
          "output_type": "execute_result",
          "data": {
            "text/plain": [
              "<function calcular_ruta at 0x7fcd002528c8>"
            ]
          },
          "metadata": {
            "tags": []
          },
          "execution_count": 40
        }
      ]
    },
    {
      "cell_type": "markdown",
      "metadata": {
        "id": "EUBkKUaHKcsC",
        "colab_type": "text"
      },
      "source": [
        "###Ramificación y Poda"
      ]
    },
    {
      "cell_type": "code",
      "metadata": {
        "id": "xhi_DSO3KkaX",
        "colab_type": "code",
        "colab": {
          "base_uri": "https://localhost:8080/",
          "height": 36
        },
        "outputId": "d32b29f6-3894-42d1-9ff3-a106028d414b"
      },
      "source": [
        "S = [0,1,2,3]\n",
        "COSTES = [[11,12,18,40],\n",
        "          [14,15,13,22],\n",
        "          [11,17,19,23],\n",
        "          [17,14,20,28]]\n",
        "\n",
        "def valor(S,COSTES):\n",
        "  VALOR = 0\n",
        "  for i in range(len(S)):\n",
        "    VALOR += COSTES[S[i]][i]\n",
        "  return VALOR \n",
        "\n",
        "valor(S,COSTES)"
      ],
      "execution_count": 75,
      "outputs": [
        {
          "output_type": "execute_result",
          "data": {
            "text/plain": [
              "73"
            ]
          },
          "metadata": {
            "tags": []
          },
          "execution_count": 75
        }
      ]
    },
    {
      "cell_type": "code",
      "metadata": {
        "id": "bfoBXXrpM336",
        "colab_type": "code",
        "colab": {
          "base_uri": "https://localhost:8080/",
          "height": 36
        },
        "outputId": "e8217d7b-47a6-4f60-bf4c-edfc86e20d6b"
      },
      "source": [
        "##Fuerza Bruta\n",
        "import itertools as it\n",
        "def fuerza_bruta(COSTES):\n",
        "\n",
        "  mejor_valor = 10e10\n",
        "  mejor_solucion = ()\n",
        "\n",
        "  for s in list(it.permutations(range(len(COSTES)))):\n",
        "    valor_tmp = valor(s,COSTES)\n",
        "    if valor_tmp < mejor_valor :\n",
        "      mejor_valor = valor_tmp\n",
        "      mejor_solucion = s\n",
        "\n",
        "  print(\"La Mejor solucion es: \", mejor_solucion, \"con valor:\", mejor_valor )\n",
        "\n",
        "fuerza_bruta(COSTES)"
      ],
      "execution_count": 69,
      "outputs": [
        {
          "output_type": "stream",
          "text": [
            "La Mejor solucion es:  (0, 3, 1, 2) con valor: 61\n"
          ],
          "name": "stdout"
        }
      ]
    },
    {
      "cell_type": "code",
      "metadata": {
        "id": "jeQeWgDdhtC_",
        "colab_type": "code",
        "colab": {}
      },
      "source": [
        "#Cota inferior\n",
        "def CI(S, COSTES):\n",
        "  #Valores establecidos\n",
        "  VALOR = 0\n",
        "  for i in range(len(S)):\n",
        "    VALOR += COSTES[i][S[i]]\n",
        "  #Estimacion\n",
        "  for i in range( len(COSTES) ):\n",
        "    if i not in S:\n",
        "      VALOR += min( [COSTES[j][i] for j in range(len(S), len(COSTES))])\n",
        "  return VALOR"
      ],
      "execution_count": 70,
      "outputs": []
    },
    {
      "cell_type": "code",
      "metadata": {
        "id": "Q7C_wmAhiVuD",
        "colab_type": "code",
        "colab": {}
      },
      "source": [
        "#funcion para ramificar\n",
        "def crear_hijos(NODO, N):\n",
        "  HIJOS = []\n",
        "  for i in range(N ):\n",
        "    if i not in NODO:\n",
        "      HIJOS.append({'s':NODO +(i,) } )\n",
        "  return HIJOS"
      ],
      "execution_count": 71,
      "outputs": []
    },
    {
      "cell_type": "code",
      "metadata": {
        "id": "NEWRr4JBlKzJ",
        "colab_type": "code",
        "colab": {
          "base_uri": "https://localhost:8080/",
          "height": 36
        },
        "outputId": "a92c5e6e-40f9-442d-c7a8-99c3ac79c11b"
      },
      "source": [
        "#Proceso Principal\n",
        "#@calcular_tiempo\n",
        "def ramificacion_y_poda(COSTES):\n",
        "  DIMENSION = len(COSTES)\n",
        "  MEJOR_SOLUCION = tuple(i for i in range(len(COSTES)))\n",
        "  CotaSup = valor(MEJOR_SOLUCION, COSTES)\n",
        "\n",
        "  NODOS=[]\n",
        "  NODOS.append({'s':(), 'ci':CI((),COSTES)})\n",
        "\n",
        "  iteracion = 0\n",
        "\n",
        "  while( len(NODOS) > 0):\n",
        "    iteracion +=1\n",
        "\n",
        "    nodo_prometedor = [min(NODOS, key=lambda x:x['ci'])][0]['s']\n",
        "\n",
        "    HIJOS =[ {'s': x['s'], 'ci':CI(x['s'], COSTES)} for x in crear_hijos(nodo_prometedor, DIMENSION)]\n",
        "\n",
        "    NODO_FINAL = [x for x in HIJOS if len(x['s']) == DIMENSION ]\n",
        "    if len(NODO_FINAL ) > 0:\n",
        "      if NODO_FINAL[0]['ci'] < CotaSup: \n",
        "        CotaSup = NODO_FINAL[0]['ci']\n",
        "        MEJOR_SOLUCION = NODO_FINAL\n",
        "  \n",
        "    HIJOS = [x for x in HIJOS  if x['ci'] < CotaSup]\n",
        "\n",
        "    NODOS.extend(HIJOS)\n",
        "\n",
        "    NODOS = [ x for x in NODOS if x['s'] != nodo_prometedor ]\n",
        "  \n",
        "  print(\"La solucion final es: \" ,MEJOR_SOLUCION , \" en \", iteracion, \"iteraciones\" , \" para dimension: \" , DIMENSION )\n",
        "\n",
        "ramificacion_y_poda(COSTES)"
      ],
      "execution_count": 72,
      "outputs": [
        {
          "output_type": "stream",
          "text": [
            "La solucion final es:  [{'s': (0, 2, 3, 1), 'ci': 61}]  en  14 iteraciones  para dimension:  4\n"
          ],
          "name": "stdout"
        }
      ]
    },
    {
      "cell_type": "markdown",
      "metadata": {
        "id": "FaZ7M4rm236-",
        "colab_type": "text"
      },
      "source": [
        " \n",
        " \n",
        " ### Descenso del gradiente"
      ]
    },
    {
      "cell_type": "code",
      "metadata": {
        "id": "1cGU2CpNjBRW",
        "colab_type": "code",
        "colab": {}
      },
      "source": [
        "import math\n",
        "import matplotlib.pyplot as plt\n",
        "import numpy as np\n",
        "#import scipy as sc\n",
        "import random"
      ],
      "execution_count": 73,
      "outputs": []
    },
    {
      "cell_type": "code",
      "metadata": {
        "id": "8focPcSo2up9",
        "colab_type": "code",
        "colab": {
          "base_uri": "https://localhost:8080/",
          "height": 302
        },
        "outputId": "2cddec4a-6436-4486-8098-01773383fb82"
      },
      "source": [
        "f = lambda X: X[0]**2+X[1]**2 #Función\n",
        "df = lambda X: [2*X[0], 2*X[1]] #Gradiante\n",
        "print (df)\n",
        "\n",
        "#Prepara los datos para dibujar mapa de niveles de Z\n",
        "resolucion = 100\n",
        "rango = 2.5\n",
        "X=np.linspace(-rango, rango, resolucion)\n",
        "Y=np.linspace(-rango, rango, resolucion)\n",
        "Z=np.zeros((resolucion,resolucion))\n",
        "for ix, x in enumerate(X):\n",
        "  for iy, y in enumerate(Y):\n",
        "    Z[iy,ix] = f([x,y])\n",
        "\n",
        "#Pinta el mapa de niveles de Z\n",
        "plt.contourf(X,Y,Z,resolucion)\n",
        "plt.colorbar()\n",
        "P=[random.uniform(-2,2 ),random.uniform(-2,2 )]\n",
        "plt.plot(P[0],P[1], \"o\", c=\"white\")\n",
        "#Tasa de aprendizaje\n",
        "TA =.1\n",
        "\n",
        "#Iteraciones\n",
        "for _ in range(500):\n",
        "  grad = df(P)\n",
        "  #print(P.grad)\n",
        "  P[0],P[1] = P[0] - TA*grad[0], P[1] - TA*grad[1]\n",
        "  plt.plot(P[0],P[1], \"o\", c=\"red\")\n",
        "\n",
        "plt.plot(P[0],P[1],\"o\", c=\"green\")\n",
        "plt.show()\n",
        "print(\"Solucion: \", P, f(P))"
      ],
      "execution_count": 74,
      "outputs": [
        {
          "output_type": "stream",
          "text": [
            "<function <lambda> at 0x7fcd00283950>\n"
          ],
          "name": "stdout"
        },
        {
          "output_type": "display_data",
          "data": {
            "image/png": "[encoded data removed]",
            "text/plain": [
              "<Figure size 432x288 with 2 Axes>"
            ]
          },
          "metadata": {
            "tags": [],
            "needs_background": "light"
          }
        },
        {
          "output_type": "stream",
          "text": [
            "Solucion:  [-2.414914225986949e-49, 5.124418693973472e-49] 3.2091477670018933e-97\n"
          ],
          "name": "stdout"
        }
      ]
    },
    {
      "cell_type": "code",
      "metadata": {
        "id": "5CGpKzo0V8Sa",
        "colab_type": "code",
        "colab": {}
      },
      "source": [
        "#definimos la funcion\n",
        "# sin(1/2 * x^2 - 1/4 * y^2 +3) * cos(2*x + 1 - E^y)\n",
        "f = lambda X: np.sin(1/2 * X[0]**2 - 1/4 * X[1]**2 + 3) * np.cos(2 * X[0] + 1 - np.e**X[1])"
      ],
      "execution_count": 9,
      "outputs": []
    },
    {
      "cell_type": "code",
      "metadata": {
        "id": "9Em9Oq-vYKPw",
        "colab_type": "code",
        "colab": {}
      },
      "source": [
        "#Aproximamos el valor del graciente en un punto por su definición.\n",
        "def df(PUNTO):\n",
        "  h = 0.01\n",
        "  T = np.copy(PUNTO)\n",
        "  grad = np.zeros(2)\n",
        "  for it, th in enumerate(PUNTO):\n",
        "    T[it] = T[it] + h\n",
        "    grad[it] = (f(T) - f(PUNTO)) / h\n",
        "  return grad"
      ],
      "execution_count": 32,
      "outputs": []
    },
    {
      "cell_type": "code",
      "metadata": {
        "id": "reP6BCH4Y7n0",
        "colab_type": "code",
        "colab": {}
      },
      "source": [
        ""
      ],
      "execution_count": null,
      "outputs": []
    }
  ]
}